{
 "cells": [
  {
   "cell_type": "markdown",
   "metadata": {},
   "source": [
    "# Lab: Introduction to Notebooks for SPSS Professionals - Part 2\n",
    "In part 2 of the lab you will learn how to load the model that was created in Part 1 and use it to score new data. \n",
    "\n",
    "### Step 1: Connect to Object Storage\n",
    "If you wish, follow instructions in Appendix A of Lab Instructions to switch to your own object storage"
   ]
  },
  {
   "cell_type": "code",
   "execution_count": 1,
   "metadata": {
    "collapsed": true
   },
   "outputs": [],
   "source": [
    "from pyspark.sql import SparkSession\n",
    "\n",
    "# @hidden_cell\n",
    "# This function is used to setup the access of Spark to your Object Storage. The definition contains your credentials.\n",
    "# You might want to remove those credentials before you share your notebook.\n",
    "def set_hadoop_config_with_credentials_18c4556616c5444581b1cb6d212cf2dc(name):\n",
    "    \"\"\"This function sets the Hadoop configuration so it is possible to\n",
    "    access data from Bluemix Object Storage using Spark\"\"\"\n",
    "\n",
    "    prefix = 'fs.swift.service.' + name\n",
    "    hconf = sc._jsc.hadoopConfiguration()\n",
    "    hconf.set(prefix + '.auth.url', 'https://identity.open.softlayer.com'+'/v3/auth/tokens')\n",
    "    hconf.set(prefix + '.auth.endpoint.prefix', 'endpoints')\n",
    "    hconf.set(prefix + '.tenant', '879160f1a1174d2f912f196ac158ffbf')\n",
    "    hconf.set(prefix + '.username', 'aa5ea4cb9c48463681897f88b4a9ab08')\n",
    "    hconf.set(prefix + '.password', 'veCB_4)bYn362UU&')\n",
    "    hconf.setInt(prefix + '.http.port', 8080)\n",
    "    hconf.set(prefix + '.region', 'dallas')\n",
    "    hconf.setBoolean(prefix + '.public', False)\n",
    "\n",
    "# you can choose any name\n",
    "name = 'keystone'\n",
    "set_hadoop_config_with_credentials_18c4556616c5444581b1cb6d212cf2dc(name)\n",
    "\n",
    "spark = SparkSession.builder.getOrCreate()"
   ]
  },
  {
   "cell_type": "markdown",
   "metadata": {},
   "source": [
    "### Step 2: Load the new data for scoring\n",
    "Note: The test data set contains all fields that were used for model training with the exception of the target variable (MortgageDefault)"
   ]
  },
  {
   "cell_type": "code",
   "execution_count": 2,
   "metadata": {
    "collapsed": false,
    "scrolled": true
   },
   "outputs": [
    {
     "data": {
      "text/html": [
       "<div>\n",
       "<table border=\"1\" class=\"dataframe\">\n",
       "  <thead>\n",
       "    <tr style=\"text-align: right;\">\n",
       "      <th></th>\n",
       "      <th>ID</th>\n",
       "      <th>Income</th>\n",
       "      <th>AppliedOnline</th>\n",
       "      <th>Residence</th>\n",
       "      <th>YearCurrentAddress</th>\n",
       "      <th>YearsCurrentEmployer</th>\n",
       "      <th>NumberOfCards</th>\n",
       "      <th>CCDebt</th>\n",
       "      <th>Loans</th>\n",
       "      <th>LoanAmount</th>\n",
       "      <th>SalePrice</th>\n",
       "      <th>Location</th>\n",
       "    </tr>\n",
       "  </thead>\n",
       "  <tbody>\n",
       "    <tr>\n",
       "      <th>0</th>\n",
       "      <td>100342</td>\n",
       "      <td>43202</td>\n",
       "      <td>YES</td>\n",
       "      <td>Owner Occupier</td>\n",
       "      <td>17</td>\n",
       "      <td>7</td>\n",
       "      <td>1</td>\n",
       "      <td>1412</td>\n",
       "      <td>1</td>\n",
       "      <td>8925</td>\n",
       "      <td>650000</td>\n",
       "      <td>101</td>\n",
       "    </tr>\n",
       "    <tr>\n",
       "      <th>1</th>\n",
       "      <td>100344</td>\n",
       "      <td>49745</td>\n",
       "      <td>NO</td>\n",
       "      <td>Private Renting</td>\n",
       "      <td>24</td>\n",
       "      <td>6</td>\n",
       "      <td>1</td>\n",
       "      <td>518</td>\n",
       "      <td>1</td>\n",
       "      <td>5915</td>\n",
       "      <td>170000</td>\n",
       "      <td>120</td>\n",
       "    </tr>\n",
       "    <tr>\n",
       "      <th>2</th>\n",
       "      <td>100367</td>\n",
       "      <td>43645</td>\n",
       "      <td>YES</td>\n",
       "      <td>Owner Occupier</td>\n",
       "      <td>5</td>\n",
       "      <td>13</td>\n",
       "      <td>2</td>\n",
       "      <td>502</td>\n",
       "      <td>0</td>\n",
       "      <td>4600</td>\n",
       "      <td>875000</td>\n",
       "      <td>100</td>\n",
       "    </tr>\n",
       "    <tr>\n",
       "      <th>3</th>\n",
       "      <td>100373</td>\n",
       "      <td>49678</td>\n",
       "      <td>YES</td>\n",
       "      <td>Owner Occupier</td>\n",
       "      <td>11</td>\n",
       "      <td>8</td>\n",
       "      <td>2</td>\n",
       "      <td>564</td>\n",
       "      <td>0</td>\n",
       "      <td>7195</td>\n",
       "      <td>275000</td>\n",
       "      <td>100</td>\n",
       "    </tr>\n",
       "    <tr>\n",
       "      <th>4</th>\n",
       "      <td>100418</td>\n",
       "      <td>59508</td>\n",
       "      <td>YES</td>\n",
       "      <td>Owner Occupier</td>\n",
       "      <td>2</td>\n",
       "      <td>19</td>\n",
       "      <td>1</td>\n",
       "      <td>3671</td>\n",
       "      <td>1</td>\n",
       "      <td>10595</td>\n",
       "      <td>135000</td>\n",
       "      <td>130</td>\n",
       "    </tr>\n",
       "  </tbody>\n",
       "</table>\n",
       "</div>"
      ],
      "text/plain": [
       "       ID  Income AppliedOnline        Residence  YearCurrentAddress  \\\n",
       "0  100342   43202           YES   Owner Occupier                  17   \n",
       "1  100344   49745            NO  Private Renting                  24   \n",
       "2  100367   43645           YES   Owner Occupier                   5   \n",
       "3  100373   49678           YES   Owner Occupier                  11   \n",
       "4  100418   59508           YES   Owner Occupier                   2   \n",
       "\n",
       "   YearsCurrentEmployer  NumberOfCards  CCDebt  Loans  LoanAmount  SalePrice  \\\n",
       "0                     7              1    1412      1        8925     650000   \n",
       "1                     6              1     518      1        5915     170000   \n",
       "2                    13              2     502      0        4600     875000   \n",
       "3                     8              2     564      0        7195     275000   \n",
       "4                    19              1    3671      1       10595     135000   \n",
       "\n",
       "   Location  \n",
       "0       101  \n",
       "1       120  \n",
       "2       100  \n",
       "3       100  \n",
       "4       130  "
      ]
     },
     "execution_count": 2,
     "metadata": {},
     "output_type": "execute_result"
    }
   ],
   "source": [
    "newData = spark.read.format('csv')\\\n",
    "  .options(header='true', inferschema='true')\\\n",
    "  .load(\"swift://IntroToNotebooks.\" + name + \"/MortgageDefaultTestData.csv\")\n",
    "\n",
    "newData.toPandas().head()"
   ]
  },
  {
   "cell_type": "markdown",
   "metadata": {},
   "source": [
    "### Step 3: Load Saved Model\n",
    "The model was saved in the model building notebook. If you changed the namespace (in our example ConvertSPSSModelToNotebook) in that notebook, modify it to the changed value here. "
   ]
  },
  {
   "cell_type": "code",
   "execution_count": 3,
   "metadata": {
    "collapsed": false
   },
   "outputs": [],
   "source": [
    "#Load Saved Model\n",
    "from pyspark.ml import PipelineModel\n",
    "model = PipelineModel.load(\"IntroToNotebooks.mortgageDefaultModel\")"
   ]
  },
  {
   "cell_type": "markdown",
   "metadata": {},
   "source": [
    "### Step 4: Score Reloaded Model\n",
    "Take note of the prediction and probability columns in the result"
   ]
  },
  {
   "cell_type": "code",
   "execution_count": 4,
   "metadata": {
    "collapsed": false
   },
   "outputs": [
    {
     "data": {
      "text/html": [
       "<div>\n",
       "<table border=\"1\" class=\"dataframe\">\n",
       "  <thead>\n",
       "    <tr style=\"text-align: right;\">\n",
       "      <th></th>\n",
       "      <th>ID</th>\n",
       "      <th>Income</th>\n",
       "      <th>AppliedOnline</th>\n",
       "      <th>Residence</th>\n",
       "      <th>YearCurrentAddress</th>\n",
       "      <th>YearsCurrentEmployer</th>\n",
       "      <th>NumberOfCards</th>\n",
       "      <th>CCDebt</th>\n",
       "      <th>Loans</th>\n",
       "      <th>LoanAmount</th>\n",
       "      <th>SalePrice</th>\n",
       "      <th>Location</th>\n",
       "      <th>AppliedOnlineEncoded</th>\n",
       "      <th>ResidenceEncoded</th>\n",
       "      <th>features</th>\n",
       "      <th>rawPrediction</th>\n",
       "      <th>probability</th>\n",
       "      <th>prediction</th>\n",
       "    </tr>\n",
       "  </thead>\n",
       "  <tbody>\n",
       "    <tr>\n",
       "      <th>0</th>\n",
       "      <td>100342</td>\n",
       "      <td>43202</td>\n",
       "      <td>YES</td>\n",
       "      <td>Owner Occupier</td>\n",
       "      <td>17</td>\n",
       "      <td>7</td>\n",
       "      <td>1</td>\n",
       "      <td>1412</td>\n",
       "      <td>1</td>\n",
       "      <td>8925</td>\n",
       "      <td>650000</td>\n",
       "      <td>101</td>\n",
       "      <td>0</td>\n",
       "      <td>0</td>\n",
       "      <td>[43202.0, 0.0, 0.0, 17.0, 7.0, 1.0, 1412.0, 1....</td>\n",
       "      <td>[14.1666666667, 5.83333333333]</td>\n",
       "      <td>[0.708333333333, 0.291666666667]</td>\n",
       "      <td>0</td>\n",
       "    </tr>\n",
       "    <tr>\n",
       "      <th>1</th>\n",
       "      <td>100344</td>\n",
       "      <td>49745</td>\n",
       "      <td>NO</td>\n",
       "      <td>Private Renting</td>\n",
       "      <td>24</td>\n",
       "      <td>6</td>\n",
       "      <td>1</td>\n",
       "      <td>518</td>\n",
       "      <td>1</td>\n",
       "      <td>5915</td>\n",
       "      <td>170000</td>\n",
       "      <td>120</td>\n",
       "      <td>1</td>\n",
       "      <td>1</td>\n",
       "      <td>[49745.0, 1.0, 1.0, 24.0, 6.0, 1.0, 518.0, 1.0...</td>\n",
       "      <td>[15.6602564103, 4.33974358974]</td>\n",
       "      <td>[0.783012820513, 0.216987179487]</td>\n",
       "      <td>0</td>\n",
       "    </tr>\n",
       "    <tr>\n",
       "      <th>2</th>\n",
       "      <td>100367</td>\n",
       "      <td>43645</td>\n",
       "      <td>YES</td>\n",
       "      <td>Owner Occupier</td>\n",
       "      <td>5</td>\n",
       "      <td>13</td>\n",
       "      <td>2</td>\n",
       "      <td>502</td>\n",
       "      <td>0</td>\n",
       "      <td>4600</td>\n",
       "      <td>875000</td>\n",
       "      <td>100</td>\n",
       "      <td>0</td>\n",
       "      <td>0</td>\n",
       "      <td>[43645.0, 0.0, 0.0, 5.0, 13.0, 2.0, 502.0, 0.0...</td>\n",
       "      <td>[16.8783673469, 3.12163265306]</td>\n",
       "      <td>[0.843918367347, 0.156081632653]</td>\n",
       "      <td>0</td>\n",
       "    </tr>\n",
       "    <tr>\n",
       "      <th>3</th>\n",
       "      <td>100373</td>\n",
       "      <td>49678</td>\n",
       "      <td>YES</td>\n",
       "      <td>Owner Occupier</td>\n",
       "      <td>11</td>\n",
       "      <td>8</td>\n",
       "      <td>2</td>\n",
       "      <td>564</td>\n",
       "      <td>0</td>\n",
       "      <td>7195</td>\n",
       "      <td>275000</td>\n",
       "      <td>100</td>\n",
       "      <td>0</td>\n",
       "      <td>0</td>\n",
       "      <td>[49678.0, 0.0, 0.0, 11.0, 8.0, 2.0, 564.0, 0.0...</td>\n",
       "      <td>[7.89699627858, 12.1030037214]</td>\n",
       "      <td>[0.394849813929, 0.605150186071]</td>\n",
       "      <td>1</td>\n",
       "    </tr>\n",
       "    <tr>\n",
       "      <th>4</th>\n",
       "      <td>100418</td>\n",
       "      <td>59508</td>\n",
       "      <td>YES</td>\n",
       "      <td>Owner Occupier</td>\n",
       "      <td>2</td>\n",
       "      <td>19</td>\n",
       "      <td>1</td>\n",
       "      <td>3671</td>\n",
       "      <td>1</td>\n",
       "      <td>10595</td>\n",
       "      <td>135000</td>\n",
       "      <td>130</td>\n",
       "      <td>0</td>\n",
       "      <td>0</td>\n",
       "      <td>[59508.0, 0.0, 0.0, 2.0, 19.0, 1.0, 3671.0, 1....</td>\n",
       "      <td>[14.0, 6.0]</td>\n",
       "      <td>[0.7, 0.3]</td>\n",
       "      <td>0</td>\n",
       "    </tr>\n",
       "  </tbody>\n",
       "</table>\n",
       "</div>"
      ],
      "text/plain": [
       "       ID  Income AppliedOnline        Residence  YearCurrentAddress  \\\n",
       "0  100342   43202           YES   Owner Occupier                  17   \n",
       "1  100344   49745            NO  Private Renting                  24   \n",
       "2  100367   43645           YES   Owner Occupier                   5   \n",
       "3  100373   49678           YES   Owner Occupier                  11   \n",
       "4  100418   59508           YES   Owner Occupier                   2   \n",
       "\n",
       "   YearsCurrentEmployer  NumberOfCards  CCDebt  Loans  LoanAmount  SalePrice  \\\n",
       "0                     7              1    1412      1        8925     650000   \n",
       "1                     6              1     518      1        5915     170000   \n",
       "2                    13              2     502      0        4600     875000   \n",
       "3                     8              2     564      0        7195     275000   \n",
       "4                    19              1    3671      1       10595     135000   \n",
       "\n",
       "   Location  AppliedOnlineEncoded  ResidenceEncoded  \\\n",
       "0       101                     0                 0   \n",
       "1       120                     1                 1   \n",
       "2       100                     0                 0   \n",
       "3       100                     0                 0   \n",
       "4       130                     0                 0   \n",
       "\n",
       "                                            features  \\\n",
       "0  [43202.0, 0.0, 0.0, 17.0, 7.0, 1.0, 1412.0, 1....   \n",
       "1  [49745.0, 1.0, 1.0, 24.0, 6.0, 1.0, 518.0, 1.0...   \n",
       "2  [43645.0, 0.0, 0.0, 5.0, 13.0, 2.0, 502.0, 0.0...   \n",
       "3  [49678.0, 0.0, 0.0, 11.0, 8.0, 2.0, 564.0, 0.0...   \n",
       "4  [59508.0, 0.0, 0.0, 2.0, 19.0, 1.0, 3671.0, 1....   \n",
       "\n",
       "                    rawPrediction                       probability  \\\n",
       "0  [14.1666666667, 5.83333333333]  [0.708333333333, 0.291666666667]   \n",
       "1  [15.6602564103, 4.33974358974]  [0.783012820513, 0.216987179487]   \n",
       "2  [16.8783673469, 3.12163265306]  [0.843918367347, 0.156081632653]   \n",
       "3  [7.89699627858, 12.1030037214]  [0.394849813929, 0.605150186071]   \n",
       "4                     [14.0, 6.0]                        [0.7, 0.3]   \n",
       "\n",
       "   prediction  \n",
       "0           0  \n",
       "1           0  \n",
       "2           0  \n",
       "3           1  \n",
       "4           0  "
      ]
     },
     "execution_count": 4,
     "metadata": {},
     "output_type": "execute_result"
    }
   ],
   "source": [
    "#Score reloaded model\n",
    "# Take note of the prediction and probability columns in the result\n",
    "\n",
    "results = model.transform(newData)\n",
    "results.toPandas().head(5)"
   ]
  },
  {
   "cell_type": "markdown",
   "metadata": {},
   "source": [
    "### Step 5: Write results into a csv file"
   ]
  },
  {
   "cell_type": "code",
   "execution_count": 5,
   "metadata": {
    "collapsed": false,
    "scrolled": true
   },
   "outputs": [
    {
     "name": "stdout",
     "output_type": "stream",
     "text": [
      "+--------+----------+----------------------------------------+\n",
      "|ID      |prediction|probability                             |\n",
      "+--------+----------+----------------------------------------+\n",
      "|100342.0|0.0       |[0.7083333333333333,0.29166666666666663]|\n",
      "|100344.0|0.0       |[0.7830128205128204,0.21698717948717952]|\n",
      "|100367.0|0.0       |[0.8439183673469388,0.15608163265306124]|\n",
      "|100373.0|1.0       |[0.3948498139287613,0.6051501860712387] |\n",
      "|100418.0|0.0       |[0.7,0.3]                               |\n",
      "+--------+----------+----------------------------------------+\n",
      "only showing top 5 rows\n",
      "\n"
     ]
    }
   ],
   "source": [
    "#Select ID, prediction and probability fields from the results dataframe\n",
    "r1=results.select(results[\"ID\"], results[\"prediction\"],results[\"probability\"])\n",
    "r1.show(5,False)"
   ]
  },
  {
   "cell_type": "markdown",
   "metadata": {},
   "source": [
    "#### Decompose the probability column\n",
    "The probability column contains a vector for each record, and the elements must be extracted"
   ]
  },
  {
   "cell_type": "code",
   "execution_count": 6,
   "metadata": {
    "collapsed": false
   },
   "outputs": [
    {
     "name": "stdout",
     "output_type": "stream",
     "text": [
      "+--------+----------+------------------+-------------------+\n",
      "|ID      |prediction|probability_0     |probability_1      |\n",
      "+--------+----------+------------------+-------------------+\n",
      "|100342.0|0.0       |0.7083333333333333|0.29166666666666663|\n",
      "|100344.0|0.0       |0.7830128205128204|0.21698717948717952|\n",
      "|100367.0|0.0       |0.8439183673469388|0.15608163265306124|\n",
      "|100373.0|1.0       |0.3948498139287613|0.6051501860712387 |\n",
      "|100418.0|0.0       |0.7               |0.3                |\n",
      "+--------+----------+------------------+-------------------+\n",
      "only showing top 5 rows\n",
      "\n"
     ]
    }
   ],
   "source": [
    "from pyspark.sql import Row\n",
    "from pyspark.sql.types import DoubleType\n",
    "from pyspark.sql.functions import udf\n",
    "from pyspark.ml.linalg import Vectors\n",
    "\n",
    "udf_0 = udf(lambda vector: float(vector[0]), DoubleType())\n",
    "udf_1 = udf(lambda vector: float(vector[1]), DoubleType())\n",
    "\n",
    "r2 = (r1.select(r1[\"ID\"], r1[\"prediction\"],r1[\"probability\"])\n",
    "    .withColumn('probability_0', udf_0(r1.probability))\n",
    "    .withColumn('probability_1', udf_1(r1.probability))\n",
    "    .drop(\"probability\"))\n",
    "\n",
    "r2.show(5, False)"
   ]
  },
  {
   "cell_type": "code",
   "execution_count": 7,
   "metadata": {
    "collapsed": false
   },
   "outputs": [],
   "source": [
    "r2.write.csv('swift://IntroToNotebooks.' + name + '/mortgage_default_scores.csv', mode='overwrite')"
   ]
  },
  {
   "cell_type": "code",
   "execution_count": 8,
   "metadata": {
    "collapsed": false
   },
   "outputs": [
    {
     "name": "stdout",
     "output_type": "stream",
     "text": [
      "+--------+----------+------------------+-------------------+\n",
      "|ID      |prediction|probability_0     |probability_1      |\n",
      "+--------+----------+------------------+-------------------+\n",
      "|100342.0|0.0       |0.7083333333333333|0.29166666666666663|\n",
      "|100344.0|0.0       |0.7830128205128204|0.21698717948717952|\n",
      "|100367.0|0.0       |0.8439183673469388|0.15608163265306124|\n",
      "|100373.0|1.0       |0.3948498139287613|0.6051501860712387 |\n",
      "|100418.0|0.0       |0.7               |0.3                |\n",
      "+--------+----------+------------------+-------------------+\n",
      "only showing top 5 rows\n",
      "\n"
     ]
    }
   ],
   "source": [
    "# Show csv file can be read back\n",
    "r3= spark.read.csv('swift://IntroToNotebooks.' + name + '/mortgage_default_scores.csv')\n",
    "r3.select(r3[\"_c0\"].alias(\"ID\"), r3[\"_c1\"].alias(\"prediction\"), r3[\"_c2\"].alias(\"probability_0\"), r3[\"_c3\"].alias(\"probability_1\")).show(5, False)"
   ]
  },
  {
   "cell_type": "markdown",
   "metadata": {
    "collapsed": true
   },
   "source": [
    "You have finished testing of the scoring notebook"
   ]
  },
  {
   "cell_type": "markdown",
   "metadata": {
    "collapsed": true
   },
   "source": [
    "### Step 6: Set up a schedule to run a notebook\n",
    "Use the clock icon in the top right corner to schedule the notebook. "
   ]
  },
  {
   "cell_type": "markdown",
   "metadata": {},
   "source": [
    "You have come to the end of the lab"
   ]
  },
  {
   "cell_type": "markdown",
   "metadata": {},
   "source": [
    "**Authors**\n",
    "* Elena Lowery\n",
    "* Mokhtar Kandil\n",
    "* Rich Tarro\n",
    "* Sidney Phoon"
   ]
  },
  {
   "cell_type": "code",
   "execution_count": null,
   "metadata": {
    "collapsed": true
   },
   "outputs": [],
   "source": []
  }
 ],
 "metadata": {
  "kernelspec": {
   "display_name": "Python 2 with Spark 2.0",
   "language": "python",
   "name": "python2-spark20"
  },
  "language_info": {
   "codemirror_mode": {
    "name": "ipython",
    "version": 2
   },
   "file_extension": ".py",
   "mimetype": "text/x-python",
   "name": "python",
   "nbconvert_exporter": "python",
   "pygments_lexer": "ipython2",
   "version": "2.7.11"
  }
 },
 "nbformat": 4,
 "nbformat_minor": 0
}